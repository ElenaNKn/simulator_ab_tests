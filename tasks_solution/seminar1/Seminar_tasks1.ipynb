{
 "cells": [
  {
   "cell_type": "code",
   "execution_count": 1,
   "id": "437f0b16-a004-4c1d-8041-baceddbb0ca1",
   "metadata": {},
   "outputs": [],
   "source": [
    "import pandas as pd"
   ]
  },
  {
   "cell_type": "markdown",
   "id": "947d36c1-2fc4-4789-abb2-2b9ee1683552",
   "metadata": {
    "jp-MarkdownHeadingCollapsed": true
   },
   "source": [
    "### Task 3"
   ]
  },
  {
   "cell_type": "code",
   "execution_count": 68,
   "id": "0efe7dc1-81d9-4322-b7a9-e59a43de6f52",
   "metadata": {},
   "outputs": [],
   "source": [
    "df1  = pd.read_csv('2022-04-01T12_df_sales.csv')\n",
    "df1_tr = df1[['date', 'user_id']]"
   ]
  },
  {
   "cell_type": "code",
   "execution_count": 69,
   "id": "decc9e2c-75d0-4737-8178-8b41affffcef",
   "metadata": {},
   "outputs": [],
   "source": [
    "df2 = pd.read_csv('2022-04-01T12_df_web_logs.csv')\n",
    "df2_tr = df2[['date', 'user_id']]"
   ]
  },
  {
   "cell_type": "code",
   "execution_count": 70,
   "id": "45da897e-39d2-44c7-a289-548f682489f5",
   "metadata": {},
   "outputs": [],
   "source": [
    "df2_grouped = df2_tr.groupby('user_id')['date'].apply(list).reset_index()\n",
    "df2_grouped.columns = ['user_id', 'visit_dates']\n",
    "\n",
    "result = df1_tr.merge(df2_grouped, on='user_id', how='left')"
   ]
  },
  {
   "cell_type": "code",
   "execution_count": 71,
   "id": "b58cd11c-d53d-4991-9878-800d7162d904",
   "metadata": {},
   "outputs": [
    {
     "data": {
      "text/html": [
       "<div>\n",
       "<style scoped>\n",
       "    .dataframe tbody tr th:only-of-type {\n",
       "        vertical-align: middle;\n",
       "    }\n",
       "\n",
       "    .dataframe tbody tr th {\n",
       "        vertical-align: top;\n",
       "    }\n",
       "\n",
       "    .dataframe thead th {\n",
       "        text-align: right;\n",
       "    }\n",
       "</style>\n",
       "<table border=\"1\" class=\"dataframe\">\n",
       "  <thead>\n",
       "    <tr style=\"text-align: right;\">\n",
       "      <th></th>\n",
       "      <th>date</th>\n",
       "      <th>user_id</th>\n",
       "      <th>visit_dates</th>\n",
       "    </tr>\n",
       "  </thead>\n",
       "  <tbody>\n",
       "    <tr>\n",
       "      <th>0</th>\n",
       "      <td>2022-02-04 10:00:24</td>\n",
       "      <td>1c1543</td>\n",
       "      <td>[2022-02-04 09:50:02, 2022-02-04 09:51:16, 202...</td>\n",
       "    </tr>\n",
       "    <tr>\n",
       "      <th>1</th>\n",
       "      <td>2022-02-04 10:02:28</td>\n",
       "      <td>a9a6e8</td>\n",
       "      <td>[2022-02-04 09:45:16, 2022-02-04 09:56:36, 202...</td>\n",
       "    </tr>\n",
       "    <tr>\n",
       "      <th>2</th>\n",
       "      <td>2022-02-04 10:02:35</td>\n",
       "      <td>23420a</td>\n",
       "      <td>[2022-02-04 09:49:53, 2022-02-04 09:52:55, 202...</td>\n",
       "    </tr>\n",
       "    <tr>\n",
       "      <th>3</th>\n",
       "      <td>2022-02-04 10:03:06</td>\n",
       "      <td>3e8ed5</td>\n",
       "      <td>[2022-02-04 09:43:33, 2022-02-04 09:45:22, 202...</td>\n",
       "    </tr>\n",
       "    <tr>\n",
       "      <th>4</th>\n",
       "      <td>2022-02-04 10:03:23</td>\n",
       "      <td>cbc468</td>\n",
       "      <td>[2022-02-04 09:48:01, 2022-02-04 09:48:59, 202...</td>\n",
       "    </tr>\n",
       "  </tbody>\n",
       "</table>\n",
       "</div>"
      ],
      "text/plain": [
       "                  date user_id  \\\n",
       "0  2022-02-04 10:00:24  1c1543   \n",
       "1  2022-02-04 10:02:28  a9a6e8   \n",
       "2  2022-02-04 10:02:35  23420a   \n",
       "3  2022-02-04 10:03:06  3e8ed5   \n",
       "4  2022-02-04 10:03:23  cbc468   \n",
       "\n",
       "                                         visit_dates  \n",
       "0  [2022-02-04 09:50:02, 2022-02-04 09:51:16, 202...  \n",
       "1  [2022-02-04 09:45:16, 2022-02-04 09:56:36, 202...  \n",
       "2  [2022-02-04 09:49:53, 2022-02-04 09:52:55, 202...  \n",
       "3  [2022-02-04 09:43:33, 2022-02-04 09:45:22, 202...  \n",
       "4  [2022-02-04 09:48:01, 2022-02-04 09:48:59, 202...  "
      ]
     },
     "execution_count": 71,
     "metadata": {},
     "output_type": "execute_result"
    }
   ],
   "source": [
    "result.head()"
   ]
  },
  {
   "cell_type": "code",
   "execution_count": 72,
   "id": "3d6f2712-b2c9-4264-a6fc-9b62cf1a2cad",
   "metadata": {},
   "outputs": [],
   "source": [
    "exploded = result.explode('visit_dates')\n",
    "exploded['date'] = pd.to_datetime(exploded['date'])\n",
    "exploded['visit_dates'] = pd.to_datetime(exploded['visit_dates'])\n",
    "\n",
    "exploded['time_diff_seconds'] = (exploded['date'] - exploded['visit_dates']).dt.total_seconds() \n",
    "    \n",
    "# Filter rows where time difference <= 2 hours and dates_list <= date\n",
    "filtered = exploded[\n",
    "    (exploded['time_diff_seconds'] <= 2 * 3600) & \n",
    "    (exploded['time_diff_seconds'] >= 0)  # Ensures dates_list <= date\n",
    "]"
   ]
  },
  {
   "cell_type": "code",
   "execution_count": 73,
   "id": "6b1440a2-d417-408f-a890-6feff0397a0a",
   "metadata": {},
   "outputs": [
    {
     "data": {
      "text/html": [
       "<div>\n",
       "<style scoped>\n",
       "    .dataframe tbody tr th:only-of-type {\n",
       "        vertical-align: middle;\n",
       "    }\n",
       "\n",
       "    .dataframe tbody tr th {\n",
       "        vertical-align: top;\n",
       "    }\n",
       "\n",
       "    .dataframe thead th {\n",
       "        text-align: right;\n",
       "    }\n",
       "</style>\n",
       "<table border=\"1\" class=\"dataframe\">\n",
       "  <thead>\n",
       "    <tr style=\"text-align: right;\">\n",
       "      <th></th>\n",
       "      <th>date</th>\n",
       "      <th>user_id</th>\n",
       "      <th>visit_dates</th>\n",
       "      <th>time_diff_seconds</th>\n",
       "    </tr>\n",
       "  </thead>\n",
       "  <tbody>\n",
       "    <tr>\n",
       "      <th>0</th>\n",
       "      <td>2022-02-04 10:00:24</td>\n",
       "      <td>1c1543</td>\n",
       "      <td>2022-02-04 09:50:02</td>\n",
       "      <td>622.0</td>\n",
       "    </tr>\n",
       "    <tr>\n",
       "      <th>0</th>\n",
       "      <td>2022-02-04 10:00:24</td>\n",
       "      <td>1c1543</td>\n",
       "      <td>2022-02-04 09:51:16</td>\n",
       "      <td>548.0</td>\n",
       "    </tr>\n",
       "    <tr>\n",
       "      <th>0</th>\n",
       "      <td>2022-02-04 10:00:24</td>\n",
       "      <td>1c1543</td>\n",
       "      <td>2022-02-04 09:52:58</td>\n",
       "      <td>446.0</td>\n",
       "    </tr>\n",
       "    <tr>\n",
       "      <th>0</th>\n",
       "      <td>2022-02-04 10:00:24</td>\n",
       "      <td>1c1543</td>\n",
       "      <td>2022-02-04 09:57:04</td>\n",
       "      <td>200.0</td>\n",
       "    </tr>\n",
       "    <tr>\n",
       "      <th>0</th>\n",
       "      <td>2022-02-04 10:00:24</td>\n",
       "      <td>1c1543</td>\n",
       "      <td>2022-02-04 09:57:28</td>\n",
       "      <td>176.0</td>\n",
       "    </tr>\n",
       "  </tbody>\n",
       "</table>\n",
       "</div>"
      ],
      "text/plain": [
       "                 date user_id         visit_dates  time_diff_seconds\n",
       "0 2022-02-04 10:00:24  1c1543 2022-02-04 09:50:02              622.0\n",
       "0 2022-02-04 10:00:24  1c1543 2022-02-04 09:51:16              548.0\n",
       "0 2022-02-04 10:00:24  1c1543 2022-02-04 09:52:58              446.0\n",
       "0 2022-02-04 10:00:24  1c1543 2022-02-04 09:57:04              200.0\n",
       "0 2022-02-04 10:00:24  1c1543 2022-02-04 09:57:28              176.0"
      ]
     },
     "execution_count": 73,
     "metadata": {},
     "output_type": "execute_result"
    }
   ],
   "source": [
    "filtered.head()"
   ]
  },
  {
   "cell_type": "code",
   "execution_count": 74,
   "id": "fa98e322-7ee7-4acd-82d9-7e00027e526e",
   "metadata": {},
   "outputs": [
    {
     "name": "stderr",
     "output_type": "stream",
     "text": [
      "C:\\Users\\alena\\AppData\\Local\\Temp\\ipykernel_6068\\590066576.py:2: FutureWarning: The provided callable <built-in function max> is currently using np.maximum.reduce. In a future version of pandas, the provided callable will be used directly. To keep current behavior pass the string np.maximum.reduce instead.\n",
      "  total = filtered.groupby(['user_id', 'date'])['time_diff_seconds'].apply(max).reset_index()\n"
     ]
    }
   ],
   "source": [
    "# группируем, оставляя максимальное время визита, относящееся к покупке пользователя\n",
    "total = filtered.groupby(['user_id', 'date'])['time_diff_seconds'].apply(max).reset_index()"
   ]
  },
  {
   "cell_type": "code",
   "execution_count": 75,
   "id": "b091e0ed-b0c6-46c9-8455-d52eb0fa3f24",
   "metadata": {},
   "outputs": [
    {
     "data": {
      "text/plain": [
       "np.float64(16.58854451295988)"
      ]
     },
     "execution_count": 75,
     "metadata": {},
     "output_type": "execute_result"
    }
   ],
   "source": [
    "# итог - считаем среднее время от визита до покупки\n",
    "total.time_diff_seconds.mean() / 60"
   ]
  },
  {
   "cell_type": "markdown",
   "id": "e7f218d8-c41b-4fc7-84eb-4641f983d253",
   "metadata": {
    "jp-MarkdownHeadingCollapsed": true
   },
   "source": [
    "### Task 4"
   ]
  },
  {
   "cell_type": "code",
   "execution_count": 76,
   "id": "3d3fc6de-45ca-4e13-a5b8-86aab7a61bad",
   "metadata": {},
   "outputs": [],
   "source": [
    "def sum_two_values(a, b):\n",
    "    \"\"\"Возвращает сумму чисел.\"\"\"\n",
    "    return a + b"
   ]
  },
  {
   "cell_type": "markdown",
   "id": "f5141724-a2f0-458e-9c39-f234222f133a",
   "metadata": {},
   "source": [
    "### Task 5"
   ]
  },
  {
   "cell_type": "markdown",
   "id": "70b7c6d5-70be-48b1-9c3d-9454111e75b3",
   "metadata": {},
   "source": [
    "В практических заданиях на программирование нашей целью будет написать код, с помощью которого можно будет оценивать A/B эксперименты. В результате у вас будет готова основа для создания платформы A/B тестирования, похожей на нашу или даже лучше.\n",
    "\n",
    "Мы разделили функции A/B платформы на 4 блока:\n",
    "\n",
    "- DataService — предоставляет доступ к сырым данным;\n",
    "- MetricsService — вычисляет метрики;\n",
    "- ExperimentsService — оценивает эксперименты;\n",
    "- SplittingService — подбирает группы пользователей для эксперимента."
   ]
  },
  {
   "cell_type": "markdown",
   "id": "d4c63e03-faea-4b0f-9caf-0698ccefcc17",
   "metadata": {},
   "source": [
    "Для оценки результатов экспериментов нам нужно выбрать данные, полученные во время эксперимента.\n",
    "\n",
    "Напишите функцию get_data_subset."
   ]
  },
  {
   "cell_type": "code",
   "execution_count": 14,
   "id": "57fa20ba-35f5-41b9-a659-5b2e4166e4e7",
   "metadata": {},
   "outputs": [],
   "source": [
    "from datetime import datetime\n",
    "\n",
    "import pandas as pd\n",
    "\n",
    "\n",
    "def get_data_subset(df, begin_date=None, end_date=None, user_ids=None, columns=None):\n",
    "    \"\"\"Возвращает подмножество данных.\n",
    "\n",
    "    :param df (pd.DataFrame): таблица с данными, обязательные столбцы: 'date', 'user_id'.\n",
    "    :param begin_date (datetime.datetime | None): дата начала интервала с данными.\n",
    "        Пример, df[df['date'] >= begin_date].\n",
    "        Если None, то фильтровать не нужно.\n",
    "    :param end_date (datetime.datetime | None): дата окончания интервала с данными.\n",
    "        Пример, df[df['date'] < end_date].\n",
    "        Если None, то фильтровать не нужно.\n",
    "    :param user_ids (list[str] | None): список user_id, по которым нужно предоставить данные.\n",
    "        Пример, df[df['user_id'].isin(user_ids)].\n",
    "        Если None, то фильтровать по user_id не нужно.\n",
    "    :param columns (list[str] | None): список названий столбцов, по которым нужно предоставить данные.\n",
    "        Пример, df[columns].\n",
    "        Если None, то фильтровать по columns не нужно.\n",
    "\n",
    "    :return df (pd.DataFrame): датафрейм с подмножеством данных.\n",
    "    \"\"\"\n",
    "    if end_date is None:\n",
    "        end_date = datetime.now()\n",
    "    if begin_date is None:\n",
    "        if user_ids and columns:\n",
    "            return df[(df.date < end_date) & (df.user_id.isin(user_ids))][columns]\n",
    "        elif user_ids:\n",
    "            return df[(df.date < end_date) & (df.user_id.isin(user_ids))]\n",
    "        elif columns:\n",
    "            return df[(df.date < end_date)][columns]\n",
    "        else:\n",
    "            return df[(df.date < end_date)]\n",
    "    else:\n",
    "        if user_ids and columns:\n",
    "            return df[(df.date >= begin_date) & (df.date < end_date) & (df.user_id.isin(user_ids))][columns]\n",
    "        elif user_ids:\n",
    "            return df[(df.date >= begin_date) & (df.date < end_date) & (df.user_id.isin(user_ids))]\n",
    "        elif columns:\n",
    "            return df[(df.date >= begin_date) & (df.date < end_date)][columns]\n",
    "        else:\n",
    "            return df[(df.date >= begin_date) & (df.date < end_date)]\n",
    "   "
   ]
  },
  {
   "cell_type": "code",
   "execution_count": 16,
   "id": "0aa7c348-554e-4276-b461-246b4c2c6aed",
   "metadata": {},
   "outputs": [],
   "source": [
    "df = pd.DataFrame({\n",
    "    'date': [datetime(2022, 1, 5), datetime(2022, 1, 7)],\n",
    "    'user_id': ['1', '2'],\n",
    "})\n",
    "new_df = get_data_subset(df, datetime(2022, 1, 1), datetime(2022, 1, 6))\n",
    "# new_df = pd.DataFrame(\n",
    "#     'date': [datetime(2022, 1, 5)],\n",
    "#     'user_id': ['1'],\n",
    "# )"
   ]
  },
  {
   "cell_type": "markdown",
   "id": "41cc3912-1b58-46eb-a2fa-d9e8cfba75e4",
   "metadata": {},
   "source": [
    "### Task 6"
   ]
  },
  {
   "cell_type": "markdown",
   "id": "d0ae958e-8642-4bf6-8daa-ebcd31e00bb0",
   "metadata": {},
   "source": [
    "Напишите функции get_response_time, get_revenue_web и get_revenue_all для вычисления метрик «revenue (web)», «revenue (all)» и «response time»."
   ]
  },
  {
   "cell_type": "code",
   "execution_count": null,
   "id": "65ee7ffd-a850-491a-b767-12be9387bdff",
   "metadata": {},
   "outputs": [],
   "source": [
    "import pandas as pd\n",
    "\n",
    "from datetime import datetime\n",
    "\n",
    "\n",
    "def get_response_time(df_web_logs, begin_date, end_date):\n",
    "    \"\"\"Вычисляет значения времени обработки запроса сервером.\n",
    "\n",
    "    Нужно вернуть значения user_id и load_time из таблицы df_web_logs,\n",
    "    отфильтрованные по дате.\n",
    "    Считаем, что запросы обрабатываются независимо, поэтому группировать\n",
    "    по user_id не нужно.\n",
    "\n",
    "    :param df_web_logs (pd.DataFrame): таблица с логами сайта, содержит\n",
    "    столбцы ['user_id', 'date', 'load_time'].\n",
    "    :param begin_date, end_date (datetime): границы периода для\n",
    "    фильтрации данных по дате. Левая граница входит, правая не входит.\n",
    "\n",
    "    :return (pd.DataFrame): датафрейм с двумя столбцами ['user_id', 'metric']\n",
    "    \"\"\"\n",
    "    # YOUR_CODE_HERE\n",
    "\n",
    "\n",
    "def get_revenue_web(df_sales, df_web_logs, begin_date, end_date):\n",
    "    \"\"\"Вычисляет значения выручки с пользователя за указанный период\n",
    "    для заходивших на сайт в указанный период.\n",
    "\n",
    "    Эти данные нужны для экспериментов на сайте, когда в эксперимент\n",
    "    попадают только те, кто заходил на сайт во время эксперимента.\n",
    "\n",
    "    Нужно вернуть значения user_id и выручки (sum(price)) за указанный\n",
    "    период для пользователей, заходивших на сайт в указанный период.\n",
    "    Если пользователь зашёл на сайт и ничего не купил, его суммарная\n",
    "    стоимость покупок равна нулю.\n",
    "    Для каждого user_id должно быть ровно одно значение.\n",
    "\n",
    "    :param df_sales (pd.DataFrame): таблица с продажами, содержит\n",
    "        столбцы ['user_id', 'date', 'price'].\n",
    "    :param df_web_logs (pd.DataFrame): таблица с логами сайта, содержит\n",
    "        столбцы ['user_id', 'date', 'load_time'].\n",
    "    :param begin_date, end_date (datetime): границы периода для фильтрации\n",
    "        данных по дате. Левая граница входит, правая не входит.\n",
    "\n",
    "    :return (pd.DataFrame): датафрейм с двумя столбцами ['user_id', 'metric']\n",
    "    \"\"\"\n",
    "    # YOUR_CODE_HERE\n",
    "\n",
    "\n",
    "def get_revenue_all(df_sales, df_web_logs, begin_date, end_date):\n",
    "    \"\"\"Вычисляет значения выручки с пользователя за указанный период\n",
    "    для заходивших на сайт до end_date.\n",
    "\n",
    "    Эти данные нужны, например, для экспериментов с рассылкой по email,\n",
    "    когда в эксперимент попадают те, кто когда-либо оставил нам свои данные.\n",
    "\n",
    "    Нужно вернуть значения user_id и выручки (sum(price)) за указанный период\n",
    "    для пользователей, заходивших на сайт до end_date.\n",
    "    Если пользователь ничего не купил за указанный период, его суммарная\n",
    "    стоимость покупок равна нулю.\n",
    "    Для каждого user_id должно быть ровно одно значение.\n",
    "\n",
    "    :param df_sales (pd.DataFrame): таблица с продажами, содержит\n",
    "        столбцы ['user_id', 'date', 'price'].\n",
    "    :param df_web_logs (pd.DataFrame): таблица с логами сайта, содержит\n",
    "        столбцы ['user_id', 'date', 'load_time'].\n",
    "    :param begin_date, end_date (datetime): границы периода для фильтрации\n",
    "        данных по дате. Левая граница входит, правая не входит.\n",
    "\n",
    "    :return (pd.DataFrame): датафрейм с двумя столбцами ['user_id', 'metric']\n",
    "    \"\"\"\n",
    "    # YOUR_CODE_HERE"
   ]
  },
  {
   "cell_type": "code",
   "execution_count": null,
   "id": "705fd21d-5729-4be7-bf98-366e1d4ed787",
   "metadata": {},
   "outputs": [],
   "source": []
  }
 ],
 "metadata": {
  "kernelspec": {
   "display_name": "Python 3 (ipykernel)",
   "language": "python",
   "name": "python3"
  },
  "language_info": {
   "codemirror_mode": {
    "name": "ipython",
    "version": 3
   },
   "file_extension": ".py",
   "mimetype": "text/x-python",
   "name": "python",
   "nbconvert_exporter": "python",
   "pygments_lexer": "ipython3",
   "version": "3.10.9"
  }
 },
 "nbformat": 4,
 "nbformat_minor": 5
}
