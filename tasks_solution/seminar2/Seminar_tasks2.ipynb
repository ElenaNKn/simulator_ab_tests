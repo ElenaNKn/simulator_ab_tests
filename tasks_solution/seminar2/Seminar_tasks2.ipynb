{
 "cells": [
  {
   "cell_type": "code",
   "execution_count": 10,
   "id": "c56c2509-138f-44b5-8df0-9ec72575c564",
   "metadata": {},
   "outputs": [],
   "source": [
    "import os\n",
    "from datetime import datetime, timedelta\n",
    "import pandas as pd\n",
    "\n",
    "import numpy as np\n",
    "import matplotlib.pyplot as plt\n",
    "import scipy.stats as stats"
   ]
  },
  {
   "cell_type": "markdown",
   "id": "9032d3ea-6045-4c0a-b0b1-cc6f2f4f77c7",
   "metadata": {},
   "source": [
    "### Task 1"
   ]
  },
  {
   "cell_type": "markdown",
   "id": "6555d672-7ffd-4537-b3d9-471755dd21c6",
   "metadata": {},
   "source": [
    "Возьмите те же группы, что и в эксперименте с изменением дизайна сайта, и проверьте значимость отличий средней выручки с пользователя на неделе перед экспериментом (c 2022.03.16 по 2022.03.23).\n",
    "\n",
    "Для решения используйте данные из файлов 2022-04-01T12_df_sales.csv и experiment_users.csv.\n",
    "\n",
    "В качестве ответа введите p-value, округлённое до 3-го знака после точки."
   ]
  },
  {
   "cell_type": "code",
   "execution_count": 9,
   "id": "f306a9fe-8719-48ac-baf4-660f12e01559",
   "metadata": {},
   "outputs": [],
   "source": [
    "URL_BASE = 'https://raw.githubusercontent.com/ElenaNKn/simulator_ab_tests/refs/heads/master/tasks_solution/seminar2/'\n",
    "\n",
    "def read_database(file_name):\n",
    "    return pd.read_csv(os.path.join(URL_BASE, file_name))"
   ]
  },
  {
   "cell_type": "code",
   "execution_count": 2,
   "id": "f0238ae2-ec6a-45e7-9d86-04ad0bce291e",
   "metadata": {},
   "outputs": [
    {
     "data": {
      "text/plain": [
       "'https://raw.githubusercontent.com/ElenaNKn/simulator_ab_tests/refs/heads/master/tasks_solution/seminar2/2022-04-01T12_df_sales.csv'"
      ]
     },
     "execution_count": 2,
     "metadata": {},
     "output_type": "execute_result"
    }
   ],
   "source": [
    "os.path.join(URL_BASE, '2022-04-01T12_df_sales.csv')"
   ]
  },
  {
   "cell_type": "code",
   "execution_count": 3,
   "id": "3a34c9b0-9669-4bf4-9d98-85532c9eac5c",
   "metadata": {},
   "outputs": [],
   "source": [
    "df_sales = read_database('2022-04-01T12_df_sales.csv')\n",
    "df_sales['date'] = pd.to_datetime(df_sales['date'])\n",
    "df_users = read_database('experiment_users.csv')"
   ]
  },
  {
   "cell_type": "code",
   "execution_count": 4,
   "id": "895a6e2b-3f86-48a8-ae1b-3bf0cd133c92",
   "metadata": {},
   "outputs": [],
   "source": [
    "begin_date = datetime(2022, 3, 16)\n",
    "end_date = datetime(2022, 3, 23)\n",
    "df_metrics = (\n",
    "    df_sales\n",
    "    [(df_sales['date'] >= begin_date) & (df_sales['date'] < end_date)]\n",
    "    .groupby('user_id')[['price']].sum()\n",
    "    .reset_index()  \n",
    ")"
   ]
  },
  {
   "cell_type": "code",
   "execution_count": 5,
   "id": "aca47db9-bdd3-49da-a2e6-66d5f2ad467e",
   "metadata": {},
   "outputs": [],
   "source": [
    "df = pd.merge(df_users, df_metrics, on='user_id', how='left').fillna(0)"
   ]
  },
  {
   "cell_type": "code",
   "execution_count": 8,
   "id": "01c07715-2c94-4712-94b6-5dd205c85f6a",
   "metadata": {},
   "outputs": [
    {
     "data": {
      "text/plain": [
       "TtestResult(statistic=np.float64(-1.2837567415000515), pvalue=np.float64(0.19923983306424942), df=np.float64(23331.0))"
      ]
     },
     "execution_count": 8,
     "metadata": {},
     "output_type": "execute_result"
    }
   ],
   "source": [
    "data_control = df[df['pilot'] == 0]['price']\n",
    "data_pilot = df[df['pilot'] == 1]['price']\n",
    "stats.ttest_ind(data_control, data_pilot)"
   ]
  },
  {
   "cell_type": "code",
   "execution_count": 27,
   "id": "6c217c71-72f5-4da5-b891-19871b7db405",
   "metadata": {},
   "outputs": [
    {
     "data": {
      "text/plain": [
       "0.19923983306424942"
      ]
     },
     "execution_count": 27,
     "metadata": {},
     "output_type": "execute_result"
    }
   ],
   "source": [
    "stats.ttest_ind(data_control, data_pilot).pvalue.item()"
   ]
  },
  {
   "cell_type": "markdown",
   "id": "ba217838-dd03-4cab-80bb-b82f5ef93942",
   "metadata": {},
   "source": [
    "### Task 2"
   ]
  },
  {
   "cell_type": "markdown",
   "id": "daa3294b-e0a5-4865-b3e8-7d4e67f83b93",
   "metadata": {},
   "source": [
    "При выполнении прошлого задания вы могли заметить, что в данных много нулей. Это значит, что большая часть пользователей, совершивших покупку во время эксперимента, не совершала покупок на неделе до эксперимента. Интересно, как часто наши клиенты делают покупки?\n",
    "\n",
    "Оцените среднее время между покупками. Возьмите всех клиентов, у которых 2 и более покупок. Вычислите время между покупками (для клиента с N покупками должно получиться N-1 значения времени). Объедините значения всех клиентов и вычислите среднее.\n",
    "\n",
    "Для решения используйте данные из файлов 2022-04-01T12_df_sales.csv.\n",
    "\n",
    "В качестве ответа введите среднее количество дней между покупками, округлённое до целого значения."
   ]
  },
  {
   "cell_type": "code",
   "execution_count": 11,
   "id": "cffbeeca-74a0-4bfc-99a5-c002ecc106ce",
   "metadata": {},
   "outputs": [
    {
     "data": {
      "text/html": [
       "<div>\n",
       "<style scoped>\n",
       "    .dataframe tbody tr th:only-of-type {\n",
       "        vertical-align: middle;\n",
       "    }\n",
       "\n",
       "    .dataframe tbody tr th {\n",
       "        vertical-align: top;\n",
       "    }\n",
       "\n",
       "    .dataframe thead th {\n",
       "        text-align: right;\n",
       "    }\n",
       "</style>\n",
       "<table border=\"1\" class=\"dataframe\">\n",
       "  <thead>\n",
       "    <tr style=\"text-align: right;\">\n",
       "      <th></th>\n",
       "      <th>sale_id</th>\n",
       "      <th>date</th>\n",
       "      <th>count_pizza</th>\n",
       "      <th>count_drink</th>\n",
       "      <th>price</th>\n",
       "      <th>user_id</th>\n",
       "    </tr>\n",
       "  </thead>\n",
       "  <tbody>\n",
       "    <tr>\n",
       "      <th>0</th>\n",
       "      <td>1000001</td>\n",
       "      <td>2022-02-04 10:00:24</td>\n",
       "      <td>1</td>\n",
       "      <td>0</td>\n",
       "      <td>720</td>\n",
       "      <td>1c1543</td>\n",
       "    </tr>\n",
       "    <tr>\n",
       "      <th>1</th>\n",
       "      <td>1000002</td>\n",
       "      <td>2022-02-04 10:02:28</td>\n",
       "      <td>1</td>\n",
       "      <td>1</td>\n",
       "      <td>930</td>\n",
       "      <td>a9a6e8</td>\n",
       "    </tr>\n",
       "    <tr>\n",
       "      <th>2</th>\n",
       "      <td>1000003</td>\n",
       "      <td>2022-02-04 10:02:35</td>\n",
       "      <td>3</td>\n",
       "      <td>1</td>\n",
       "      <td>1980</td>\n",
       "      <td>23420a</td>\n",
       "    </tr>\n",
       "    <tr>\n",
       "      <th>3</th>\n",
       "      <td>1000004</td>\n",
       "      <td>2022-02-04 10:03:06</td>\n",
       "      <td>1</td>\n",
       "      <td>1</td>\n",
       "      <td>750</td>\n",
       "      <td>3e8ed5</td>\n",
       "    </tr>\n",
       "    <tr>\n",
       "      <th>4</th>\n",
       "      <td>1000005</td>\n",
       "      <td>2022-02-04 10:03:23</td>\n",
       "      <td>1</td>\n",
       "      <td>1</td>\n",
       "      <td>870</td>\n",
       "      <td>cbc468</td>\n",
       "    </tr>\n",
       "  </tbody>\n",
       "</table>\n",
       "</div>"
      ],
      "text/plain": [
       "   sale_id                date  count_pizza  count_drink  price user_id\n",
       "0  1000001 2022-02-04 10:00:24            1            0    720  1c1543\n",
       "1  1000002 2022-02-04 10:02:28            1            1    930  a9a6e8\n",
       "2  1000003 2022-02-04 10:02:35            3            1   1980  23420a\n",
       "3  1000004 2022-02-04 10:03:06            1            1    750  3e8ed5\n",
       "4  1000005 2022-02-04 10:03:23            1            1    870  cbc468"
      ]
     },
     "execution_count": 11,
     "metadata": {},
     "output_type": "execute_result"
    }
   ],
   "source": [
    "df_sales.head()"
   ]
  },
  {
   "cell_type": "code",
   "execution_count": 16,
   "id": "8d71d386-5c91-4d23-9a86-b9795cda4a01",
   "metadata": {},
   "outputs": [],
   "source": [
    "count_purch = df_sales.groupby('user_id').agg(\n",
    "    n_purch=('sale_id', 'nunique')\n",
    ").reset_index()"
   ]
  },
  {
   "cell_type": "code",
   "execution_count": 19,
   "id": "2a7a560c-2553-455b-b93b-45e8d87f4d79",
   "metadata": {},
   "outputs": [],
   "source": [
    "result = df_sales.merge(count_purch, how='inner', on='user_id')\n",
    "result = result[result.n_purch >= 2][['user_id', 'date']].sort_values(['user_id', 'date'])"
   ]
  },
  {
   "cell_type": "code",
   "execution_count": 20,
   "id": "a6abfe10-4392-486b-9237-da72006fbc54",
   "metadata": {},
   "outputs": [],
   "source": [
    "time_differences = result.groupby('user_id')['date'].diff().shift(-1)"
   ]
  },
  {
   "cell_type": "code",
   "execution_count": 22,
   "id": "4b5cd0fc-5f38-4b43-a00b-8cf44ecad900",
   "metadata": {},
   "outputs": [
    {
     "data": {
      "text/plain": [
       "Timedelta('17 days 07:37:57.653431857')"
      ]
     },
     "execution_count": 22,
     "metadata": {},
     "output_type": "execute_result"
    }
   ],
   "source": [
    "time_differences.mean()"
   ]
  },
  {
   "cell_type": "markdown",
   "id": "45e4378c-0278-410b-9584-bbea9d6744b5",
   "metadata": {},
   "source": [
    "### Task 3"
   ]
  },
  {
   "cell_type": "markdown",
   "id": "fd682277-e031-47c4-9e32-6313bff2092a",
   "metadata": {},
   "source": [
    "Для проверки статистической значимости нужно вычислить p-value и сравнить его с уровнем значимости.\n",
    "\n",
    "Напишите функцию get_ttest_pvalue. \n",
    "\n",
    "Шаблон решения\n",
    "\n",
    "import numpy as np\n",
    "from scipy import stats\n",
    "\n",
    "\n",
    "def get_ttest_pvalue(metrics_a_group, metrics_b_group):\n",
    "    \"\"\"Применяет тест Стьюдента, возвращает pvalue.\n",
    "\n",
    "    :param metrics_a_group (np.array): массив значений метрик группы A\n",
    "    :param metrics_a_group (np.array): массив значений метрик группы B\n",
    "    :return (float): значение p-value\n",
    "    \"\"\"\n",
    "    # YOUR_CODE_HERE"
   ]
  },
  {
   "cell_type": "code",
   "execution_count": 28,
   "id": "0c6440bd-77de-40b5-b071-1355b172545b",
   "metadata": {},
   "outputs": [],
   "source": [
    "import numpy as np\n",
    "from scipy import stats\n",
    "\n",
    "\n",
    "def get_ttest_pvalue(metrics_a_group, metrics_b_group):\n",
    "    \"\"\"Применяет тест Стьюдента, возвращает pvalue.\n",
    "\n",
    "    :param metrics_a_group (np.array): массив значений метрик группы A\n",
    "    :param metrics_a_group (np.array): массив значений метрик группы B\n",
    "    :return (float): значение p-value\n",
    "    \"\"\"\n",
    "    return stats.ttest_ind(metrics_a_group, metrics_b_group).pvalue.item()"
   ]
  },
  {
   "cell_type": "code",
   "execution_count": null,
   "id": "31730eb4-90be-42ca-8943-acb1bff4a796",
   "metadata": {},
   "outputs": [],
   "source": []
  }
 ],
 "metadata": {
  "kernelspec": {
   "display_name": "Python 3 (ipykernel)",
   "language": "python",
   "name": "python3"
  },
  "language_info": {
   "codemirror_mode": {
    "name": "ipython",
    "version": 3
   },
   "file_extension": ".py",
   "mimetype": "text/x-python",
   "name": "python",
   "nbconvert_exporter": "python",
   "pygments_lexer": "ipython3",
   "version": "3.10.9"
  }
 },
 "nbformat": 4,
 "nbformat_minor": 5
}
